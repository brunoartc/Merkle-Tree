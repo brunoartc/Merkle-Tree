{
 "cells": [
  {
   "cell_type": "markdown",
   "metadata": {},
   "source": [
    "# Merkle Tree"
   ]
  },
  {
   "cell_type": "code",
   "execution_count": 1,
   "metadata": {},
   "outputs": [
    {
     "ename": "IndentationError",
     "evalue": "expected an indented block (<ipython-input-1-bb3c0abfb19e>, line 9)",
     "output_type": "error",
     "traceback": [
      "\u001b[0;36m  File \u001b[0;32m\"<ipython-input-1-bb3c0abfb19e>\"\u001b[0;36m, line \u001b[0;32m9\u001b[0m\n\u001b[0;31m    def makeMerkleTreeString(block_size, data): #clever implementation\u001b[0m\n\u001b[0m      ^\u001b[0m\n\u001b[0;31mIndentationError\u001b[0m\u001b[0;31m:\u001b[0m expected an indented block\n"
     ]
    }
   ],
   "source": [
    "def makeCompleteMerkleTreeString(block_size, data):\n",
    "    if (len(data)%2 != 0):\n",
    "        print(\"NON EVEN NUMBER OF CHARACTERS\")\n",
    "    else:\n",
    "        return makeMerkleTreeString(block_size, data)\n",
    "    \n",
    "def simplifyMerkleTree(data):\n",
    "    \n",
    "def makeMerkleTreeString(block_size, data): #clever implementation\n",
    "    slice_index = int(len(data)/2)\n",
    "    \n",
    "    if (len(data)<=block_size):\n",
    "        return [data[:slice_index], data[slice_index:]]\n",
    "    else:\n",
    "        return [makeMerkleTreeString(block_size, data[:slice_index]) , makeMerkleTreeString(block_size, data[slice_index:]) ]\n",
    "    \n",
    "def undoMerkle(data):\n",
    "    if (type(data) == type([])):\n",
    "        return undoMerkle(data[0]) +  undoMerkle(data[1])\n",
    "    else:\n",
    "        return data\n",
    "    \n",
    "def calcMerkleTree(data): #WRONG ALGORITHM !!!!\n",
    "    try:\n",
    "        if (type(data[1]) == type([])):\n",
    "            return calcMerkleTree(data[0]) +  calcMerkleTree(data[1])\n",
    "        else:\n",
    "            return hash(data[0] + data[1])\n",
    "    except:\n",
    "        print(data[1][1])\n",
    "        \n",
    "def calcLowerMerkleTreeHash(data):\n",
    "    if (type(data[0]) == type([])):\n",
    "        return [calcLowerMerkleTreeHash(data[0]),  calcLowerMerkleTreeHash(data[1])]\n",
    "    else:\n",
    "        #print(str(data) + \"\\n\\n\\n\\n\\n\")\n",
    "        return hash(data[0] + data[1])\n",
    "    if (type(data[1]) == type([])):\n",
    "        return [calcLowerMerkleTreeHash(data[0]),  calcLowerMerkleTreeHash(data[1])]\n",
    "    else:\n",
    "        #print(str(data) + \"\\n\\n\\n\\n\\n\")\n",
    "        return hash(data[0] + data[1])\n",
    "    \n",
    "\n",
    "def fullHashMerkleTree(mytree):\n",
    "    resp = []\n",
    "    teste = calcLowerMerkleTreeHash(mytree)\n",
    "    print(teste)\n",
    "    while type(teste) == type([]):\n",
    "        print(\"\\n\\n\\n\\n\\n\\n\\n\")\n",
    "        print(teste)\n",
    "        resp.append(teste)\n",
    "        \n",
    "\n",
    "        teste = calcLowerMerkleTreeHash(teste)\n",
    "    print(\"\\n\\n\\n\\n\\n\\n\\n\")\n",
    "    print(teste)\n",
    "    resp.append(teste)\n",
    "    return teste\n",
    "        \n"
   ]
  },
  {
   "cell_type": "markdown",
   "metadata": {},
   "source": [
    "mytree = makeCompleteMerkleTreeString(2, \"bananinha quando nascea \") # <- need to be even\n",
    "print(\"===============\")\n",
    "print(calcMerkleTree(mytree))\n",
    "print(mytree)\n",
    "print(\"===============\")\n",
    "fullHashMerkleTree(mytree)\n"
   ]
  },
  {
   "cell_type": "code",
   "execution_count": 2,
   "metadata": {},
   "outputs": [],
   "source": [
    "def makeMerkleTreeBlocks(data, block_size):\n",
    "    if (len(data)%block_size) != 0:\n",
    "        print(\"CAN'T DIVIDE DATA BY BLOCK_SIZE\")\n",
    "    else:\n",
    "        data_blocks = []\n",
    "        for i in range(int(len(data)/block_size)):\n",
    "            data_blocks.append(data[i*block_size: (i*block_size) + block_size])\n",
    "\n",
    "        return data_blocks\n",
    "    \n",
    "def addPaddingToBlocks(data):\n",
    "    if (type(data[0])==type(0)):\n",
    "        data.append(0)\n",
    "    else:\n",
    "        data.append('')\n",
    "    return data\n",
    "    \n",
    "def calculateBottonMerkleTreeHashs(data):\n",
    "    if len(data)%2 != 0:\n",
    "        data = addPaddingToBlocks(data)\n",
    "    resp = []\n",
    "    \n",
    "    for i in range(int(len(data)/2)):\n",
    "        resp.append(hash(data[i*2] + data[(i*2)+1]))\n",
    "        \n",
    "    if len(resp)%2 != 0:\n",
    "        resp = addPaddingToBlocks(resp)\n",
    "    return resp\n",
    "\n",
    "\n",
    "\n",
    "\n",
    "        \n",
    "    \n",
    "def calculateTreeHash(data, history = []):\n",
    "    data = calculateBottonMerkleTreeHashs(data)\n",
    "    \n",
    "    history.append(data) #TODO better history\n",
    "    if (len(data) > 2):\n",
    "        \n",
    "        return calculateTreeHash(data, history)\n",
    "    else:\n",
    "        return hash(data[0] + data[1]), history\n",
    "    \n",
    "def preetifyHistory(history):\n",
    "    if len(history)>2:\n",
    "        return [preetifyHistory(history[int(len(history)/2):]), preetifyHistory(history[:int(len(history)/2)])]\n",
    "        \n",
    "    \n",
    "    \n",
    "    \n",
    "\n",
    "\n",
    "mytree = makeMerkleTreeBlocks(\"bananinha quAndo dormebananinha quAndo dormebananinha quAndo dormebananinha quAndo dormebananinha quAndo dorme\", 2)\n",
    "\n",
    "\n",
    "\n",
    "\n",
    "final_hash, history = calculateTreeHash(mytree, [])\n",
    "\n",
    "for i in history:\n",
    "    break\n",
    "    print(\"\\n\\n\\n\\n\\n\\n\")\n",
    "    print(i)\n"
   ]
  },
  {
   "cell_type": "code",
   "execution_count": 3,
   "metadata": {},
   "outputs": [],
   "source": [
    "mytree_wrong = makeMerkleTreeBlocks(\"bananinha quando dorme\", 2)\n",
    "\n",
    "\n",
    "final_hash_wrong, history_wrong = calculateTreeHash(mytree_wrong, [])\n"
   ]
  },
  {
   "cell_type": "code",
   "execution_count": 4,
   "metadata": {},
   "outputs": [
    {
     "name": "stdout",
     "output_type": "stream",
     "text": [
      "False\n",
      "False\n",
      "False\n",
      "False\n"
     ]
    },
    {
     "data": {
      "text/plain": [
       "-1435366836590834896"
      ]
     },
     "execution_count": 4,
     "metadata": {},
     "output_type": "execute_result"
    }
   ],
   "source": [
    "print(final_hash == final_hash_wrong) #False block sectio wrong\n",
    "print(history[2] == history_wrong[2]) #False block section wrong\n",
    "print(history[2][0] == history_wrong[2][0]) #True block section ok\n",
    "print(history[2][1] == history_wrong[2][1]) \n",
    "history_wrong[2][1]"
   ]
  },
  {
   "cell_type": "code",
   "execution_count": 7,
   "metadata": {},
   "outputs": [
    {
     "name": "stdout",
     "output_type": "stream",
     "text": [
      "\n",
      "\n",
      "\n",
      "\n",
      "\n",
      "\n",
      " [3332143324689342184, 633012007644156963, 4640341469153739020, 72771851086655044, 1308805294680906171, 1370168331398052249, 6442544020234705992, -6011224976595652241, -5676350465546457405, -3833103714466817776, -7165979290474197400, -1100815461701042214, 5802589836349906035, -413009012972539216, 157211871428955265, -5872377141756186981, 912981786668532977, 7382153013828590138, 3405980318251547476, -6011224976595652241, 1816992251353044376, 191497542311103127, -6048024799667347887, -7761946458396904256, 6572053757931031706, 3999703289908844461, 3009648606570995571, 6537599091717142563]\n",
      "\n",
      "\n",
      "\n",
      "\n",
      "\n",
      "\n",
      " [1659312323119805196, 101427301813006162, 373130616865264469, 431319043639053751, -286082143158499377, -1349265724534157761, 777894804949978917, -1103479251899843814, 1377605772856041262, -299401649130410814, 2008489793664147503, -2280756211995782388, 1348385010985100363, 323875661433362330]\n",
      "\n",
      "\n",
      "\n",
      "\n",
      "\n",
      "\n",
      " [1760739624932811358, 804449660504318220, -1635347867692657138, -325584446949864897, 1078204123725630448, -272266418331634885, 1672260672418462693, 0]\n",
      "\n",
      "\n",
      "\n",
      "\n",
      "\n",
      "\n",
      " [259346276223435627, -1960932314642522035, 805937705393995563, 1672260672418462693]\n",
      "\n",
      "\n",
      "\n",
      "\n",
      "\n",
      "\n",
      " [-1701586038419086408, 172355368598764305]\n"
     ]
    }
   ],
   "source": [
    "mytree_test= makeMerkleTreeBlocks(\"banawdm, akwodmaowndioawndioawndinawiodnaiowndiawndioawnioqwndinawodnawiodnoawndopandioánwiodaninha quando dorme\", 2)\n",
    "\n",
    "\n",
    "final_hash_wrong, history_wrong = calculateTreeHash(mytree_test, [])\n",
    "\n",
    "for i in history_wrong:\n",
    "    print(\"\\n\\n\\n\\n\\n\\n\", i)"
   ]
  },
  {
   "cell_type": "code",
   "execution_count": null,
   "metadata": {},
   "outputs": [],
   "source": [
    "#print(history[0])\n",
    "phistory = preetifyHistory(history[0])\n"
   ]
  },
  {
   "cell_type": "code",
   "execution_count": null,
   "metadata": {},
   "outputs": [],
   "source": []
  }
 ],
 "metadata": {
  "kernelspec": {
   "display_name": "Python 3",
   "language": "python",
   "name": "python3"
  },
  "language_info": {
   "codemirror_mode": {
    "name": "ipython",
    "version": 3
   },
   "file_extension": ".py",
   "mimetype": "text/x-python",
   "name": "python",
   "nbconvert_exporter": "python",
   "pygments_lexer": "ipython3",
   "version": "3.7.3"
  }
 },
 "nbformat": 4,
 "nbformat_minor": 2
}
