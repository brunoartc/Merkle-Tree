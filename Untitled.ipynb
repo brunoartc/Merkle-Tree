{
 "cells": [
  {
   "cell_type": "markdown",
   "metadata": {},
   "source": [
    "# Merkle Tree"
   ]
  },
  {
   "cell_type": "markdown",
   "metadata": {},
   "source": [
    "def makeCompleteMerkleTreeString(block_size, data):\n",
    "    if (len(data)%2 != 0):\n",
    "        print(\"NON EVEN NUMBER OF CHARACTERS\")\n",
    "    else:\n",
    "        return makeMerkleTreeString(block_size, data)\n",
    "    \n",
    "def simplifyMerkleTree(data):\n",
    "    \n",
    "def makeMerkleTreeString(block_size, data): #clever implementation\n",
    "    slice_index = int(len(data)/2)\n",
    "    \n",
    "    if (len(data)<=block_size):\n",
    "        return [data[:slice_index], data[slice_index:]]\n",
    "    else:\n",
    "        return [makeMerkleTreeString(block_size, data[:slice_index]) , makeMerkleTreeString(block_size, data[slice_index:]) ]\n",
    "    \n",
    "def undoMerkle(data):\n",
    "    if (type(data) == type([])):\n",
    "        return undoMerkle(data[0]) +  undoMerkle(data[1])\n",
    "    else:\n",
    "        return data\n",
    "    \n",
    "def calcMerkleTree(data): #WRONG ALGORITHM !!!!\n",
    "    try:\n",
    "        if (type(data[1]) == type([])):\n",
    "            return calcMerkleTree(data[0]) +  calcMerkleTree(data[1])\n",
    "        else:\n",
    "            return hash(data[0] + data[1])\n",
    "    except:\n",
    "        print(data[1][1])\n",
    "        \n",
    "def calcLowerMerkleTreeHash(data):\n",
    "    if (type(data[0]) == type([])):\n",
    "        return [calcLowerMerkleTreeHash(data[0]),  calcLowerMerkleTreeHash(data[1])]\n",
    "    else:\n",
    "        #print(str(data) + \"\\n\\n\\n\\n\\n\")\n",
    "        return hash(data[0] + data[1])\n",
    "    if (type(data[1]) == type([])):\n",
    "        return [calcLowerMerkleTreeHash(data[0]),  calcLowerMerkleTreeHash(data[1])]\n",
    "    else:\n",
    "        #print(str(data) + \"\\n\\n\\n\\n\\n\")\n",
    "        return hash(data[0] + data[1])\n",
    "    \n",
    "\n",
    "def fullHashMerkleTree(mytree):\n",
    "    resp = []\n",
    "    teste = calcLowerMerkleTreeHash(mytree)\n",
    "    print(teste)\n",
    "    while type(teste) == type([]):\n",
    "        print(\"\\n\\n\\n\\n\\n\\n\\n\")\n",
    "        print(teste)\n",
    "        resp.append(teste)\n",
    "        \n",
    "\n",
    "        teste = calcLowerMerkleTreeHash(teste)\n",
    "    print(\"\\n\\n\\n\\n\\n\\n\\n\")\n",
    "    print(teste)\n",
    "    resp.append(teste)\n",
    "    return teste\n",
    "\n",
    "\n",
    "\n",
    "        \n"
   ]
  },
  {
   "cell_type": "markdown",
   "metadata": {},
   "source": [
    "mytree = makeCompleteMerkleTreeString(2, \"bananinha quando nascea \") # <- need to be even\n",
    "print(\"===============\")\n",
    "print(calcMerkleTree(mytree))\n",
    "print(mytree)\n",
    "print(\"===============\")\n",
    "fullHashMerkleTree(mytree)\n"
   ]
  },
  {
   "cell_type": "code",
   "execution_count": 24,
   "metadata": {},
   "outputs": [],
   "source": [
    "def makeMerkleTreeBlocks(data, block_size):\n",
    "    if (len(data)%block_size) != 0:\n",
    "        print(\"CAN'T DIVIDE DATA BY BLOCK_SIZE\")\n",
    "    else:\n",
    "        data_blocks = []\n",
    "        for i in range(int(len(data)/block_size)):\n",
    "            data_blocks.append(data[i*block_size: (i*block_size) + block_size])\n",
    "\n",
    "        return data_blocks\n",
    "    \n",
    "def addPaddingToBlocks(data):\n",
    "    if (type(data[0])==type(0)):\n",
    "        data.append(0)\n",
    "    else:\n",
    "        data.append('')\n",
    "    return data\n",
    "    \n",
    "def calculateBottonMerkleTreeHashs(data):\n",
    "    if len(data)%2 != 0:\n",
    "        data = addPaddingToBlocks(data)\n",
    "    resp = []\n",
    "    \n",
    "    for i in range(int(len(data)/2)):\n",
    "        resp.append(hash(data[i*2] + data[(i*2)+1]))\n",
    "        \n",
    "    if len(resp)%2 != 0:\n",
    "        resp = addPaddingToBlocks(resp)\n",
    "    return resp\n",
    "\n",
    "\n",
    "\n",
    "\n",
    "        \n",
    "    \n",
    "def calculateTreeHash(data, history = []):\n",
    "    data = calculateBottonMerkleTreeHashs(data)\n",
    "    \n",
    "    history.append(data) #TODO better history\n",
    "    if (len(data) > 2):\n",
    "        \n",
    "        return calculateTreeHash(data, history)\n",
    "    else:\n",
    "        return hash(data[0] + data[1]), history\n",
    "    \n",
    "def preetifyHistory(history):\n",
    "    if len(history)>2:\n",
    "        return [preetifyHistory(history[int(len(history)/2):]), preetifyHistory(history[:int(len(history)/2)])]\n",
    "    else:\n",
    "        return history\n",
    "        \n",
    "    \n",
    "    \n",
    "def preetifyHistoryTeste(history):\n",
    "    if len(history)>2:\n",
    "        \n",
    "        return [history[int(len(history)/2):], history[:int(len(history)/2)]]\n",
    "    else:\n",
    "        return history\n",
    "    \n",
    "    \n",
    "def findBlock(tree, index, i=0):\n",
    "    #if type(tree[0])==type([]):\n",
    "    if (len(index) > i):\n",
    "        return findBlock(tree[index[i]], index, i+1)\n",
    "    else:\n",
    "        return tree\n",
    "\n",
    "        "
   ]
  },
  {
   "cell_type": "code",
   "execution_count": 25,
   "metadata": {},
   "outputs": [],
   "source": [
    "mytree_wrong = makeMerkleTreeBlocks(\"Hello World? h3ll0\", 2)\n",
    "mytree = makeMerkleTreeBlocks(\"Hello World! h3ll0\", 2)\n"
   ]
  },
  {
   "cell_type": "code",
   "execution_count": 26,
   "metadata": {},
   "outputs": [
    {
     "name": "stdout",
     "output_type": "stream",
     "text": [
      "['He', 'll', 'o ', 'Wo', 'rl', 'd!', ' h', '3l', 'l0']\n"
     ]
    }
   ],
   "source": [
    "print(mytree)"
   ]
  },
  {
   "cell_type": "code",
   "execution_count": 27,
   "metadata": {},
   "outputs": [
    {
     "name": "stdout",
     "output_type": "stream",
     "text": [
      "[-5602903830994083759, -7894187982053096454, 1093664052491719251, 3465290730906929497, -6718037564440240287, 0]\n"
     ]
    }
   ],
   "source": [
    "final_hash, history = calculateTreeHash(mytree, [])\n",
    "teste_final_hash, teste_history = calculateTreeHash(makeMerkleTreeBlocks(\"Hello World! h3ll0\", 2), [])\n",
    "\n",
    "\n",
    "print(history[0])"
   ]
  },
  {
   "cell_type": "code",
   "execution_count": 28,
   "metadata": {},
   "outputs": [
    {
     "name": "stdout",
     "output_type": "stream",
     "text": [
      "[-1967876766978710458, 2253111774184954797, -2106351546012852385, 0]\n"
     ]
    }
   ],
   "source": [
    "print(history[1])"
   ]
  },
  {
   "cell_type": "code",
   "execution_count": 29,
   "metadata": {},
   "outputs": [
    {
     "name": "stdout",
     "output_type": "stream",
     "text": [
      "[285235007206244339, -2106351546012852385]\n"
     ]
    }
   ],
   "source": [
    "print(history[2])"
   ]
  },
  {
   "cell_type": "code",
   "execution_count": 30,
   "metadata": {},
   "outputs": [
    {
     "name": "stdout",
     "output_type": "stream",
     "text": [
      "-1821116538806608046\n"
     ]
    }
   ],
   "source": [
    "print(final_hash)"
   ]
  },
  {
   "cell_type": "code",
   "execution_count": 52,
   "metadata": {},
   "outputs": [
    {
     "name": "stdout",
     "output_type": "stream",
     "text": [
      "-1821116538806608046\n",
      "-1355276773712706389\n"
     ]
    }
   ],
   "source": [
    "final_hash_wrong, history_wrong = calculateTreeHash(mytree_wrong, [])\n",
    "print(final_hash)\n",
    "print(final_hash_wrong)"
   ]
  },
  {
   "cell_type": "code",
   "execution_count": 72,
   "metadata": {},
   "outputs": [
    {
     "name": "stdout",
     "output_type": "stream",
     "text": [
      "True\n",
      "False\n"
     ]
    }
   ],
   "source": [
    "print(final_hash == teste_final_hash)\n",
    "print(final_hash == final_hash_wrong) #False block sectio wrong     podemos ver que o arquivo foi modificado ou danificado"
   ]
  },
  {
   "cell_type": "code",
   "execution_count": 77,
   "metadata": {},
   "outputs": [
    {
     "name": "stdout",
     "output_type": "stream",
     "text": [
      "False\n",
      "False\n"
     ]
    }
   ],
   "source": [
    "PROFUNDIDADE = 2\n",
    "wrong_block = []\n",
    "\n",
    "print(history[PROFUNDIDADE][0] == history_wrong[PROFUNDIDADE][0]) # podemos ver que o erro esta na segunda metade da string primeira do vetor\n",
    "print(history[PROFUNDIDADE][1] == history_wrong[PROFUNDIDADE][1]) #True block section ok\n",
    "\n",
    "wrong_block.append(0)\n",
    "# 0 "
   ]
  },
  {
   "cell_type": "code",
   "execution_count": 78,
   "metadata": {},
   "outputs": [
    {
     "name": "stdout",
     "output_type": "stream",
     "text": [
      "[-1967876766978710458, 2253111774184954797, -2106351546012852385, 0]\n",
      "\n",
      "\n",
      "\n",
      "\n",
      "[-393339275718896890, -1496674566347863719, 582970588359994200, -187083283099560664, 1638151374768573661, 294090461250188370, 1900372630857606982, 1001312613408128020, 1104960180774473879, -2163373949747876330, -794830310900669409, -352499494778105422, 1504853547231352819, 1097429671586972248]\n",
      "False\n",
      "False\n"
     ]
    }
   ],
   "source": [
    "PROFUNDIDADE -= 1\n",
    "SESSAO_ANTERIOR = not 0#\n",
    "#t(SESSAO_ANTERIOR)\n",
    "print(history[1])\n",
    "print(\"\\n\\n\\n\")\n",
    "print(history_wrong[1])\n",
    "\n",
    "print(preetifyHistory(history_wrong[SESSAO_ANTERIOR])[0] == preetifyHistory(history[SESSAO_ANTERIOR])[0]) # esta parte esta okay\n",
    "\n",
    "print(preetifyHistory(history_wrong[SESSAO_ANTERIOR])[1] == preetifyHistory(history[SESSAO_ANTERIOR])[1]) # esta parte esta errada a primeira parte \n",
    "#como vemos o numero sempre se inverte \n",
    "\n",
    "wrong_block.append(1)\n",
    "# 1"
   ]
  },
  {
   "cell_type": "code",
   "execution_count": 79,
   "metadata": {},
   "outputs": [
    {
     "name": "stdout",
     "output_type": "stream",
     "text": [
      "1912334495881313981\n"
     ]
    }
   ],
   "source": [
    "# no ultimo teste vimos que o errado estava no 1 que se traduz para 0\n",
    "PROFUNDIDADE -= 1\n",
    "SESSAO_ANTERIOR = not 0\n",
    "\n",
    "\n",
    "print (history_wrong[PROFUNDIDADE][SESSAO_ANTERIOR]) # a sessão errada no sistema\n",
    "#print (preetifyHistory(history[PROFUNDIDADE])[SESSAO_ANTERIOR][0]) # deveria devolver esse hash\n",
    "\n"
   ]
  },
  {
   "cell_type": "code",
   "execution_count": 69,
   "metadata": {},
   "outputs": [
    {
     "name": "stdout",
     "output_type": "stream",
     "text": [
      "[-6917359790027598773, 1912334495881313981, -1464885053211804686, -6949318540777140886, 8600032945685889193, 8123838707169962664, -872782539526487799, -3925986762000460767, 9181716075441249763, -5237721691458982151, -4179452026142252837, 4473542487392441207, 4447800630650684342, 6675944037061698444, 7168803131684394331, 750038509364815542, 8969489374544366727, 3664685852298576907, -5154916215388497416, -3925986762000460767, -6135508522358017961, -6188536834611121203, -4495036139129256841, -7386678401717318336, -5364639568253327523, 9175336124698374293, -1364836568281959031, 2462266239868931279]\n"
     ]
    }
   ],
   "source": [
    "mytree_test= makeMerkleTreeBlocks(\"banawdm, akwodmaowndioawndioawndinawiodnaiowndiawndioawnioqwndinawodnawiodnoawndopandioánwiodaninha quando dorme\", 2)\n",
    "\n",
    "\n",
    "final_hash_wrong, history_wrong = calculateTreeHash(mytree_test, [])\n",
    "\n",
    "#for i in history_wrong:\n",
    "    #print(\"\\n\\n\\n\\n\\n\\n\", i)\n",
    "print(history_wrong[0])"
   ]
  },
  {
   "cell_type": "code",
   "execution_count": 80,
   "metadata": {},
   "outputs": [
    {
     "name": "stdout",
     "output_type": "stream",
     "text": [
      "['d?', ' h']\n"
     ]
    }
   ],
   "source": [
    "#print(final_hash)\n",
    "phistory = preetifyHistory(history_wrong[0]) \n",
    "#print(phistory[0][1]) # como podemos ver achamos a sessão correta pela busca binaria\n",
    "\n",
    "merklePreety = preetifyHistory(mytree_wrong) \n",
    "\n",
    "print(findBlock(merklePreety, wrong_block))\n"
   ]
  },
  {
   "cell_type": "code",
   "execution_count": null,
   "metadata": {},
   "outputs": [],
   "source": []
  }
 ],
 "metadata": {
  "kernelspec": {
   "display_name": "Python 3",
   "language": "python",
   "name": "python3"
  },
  "language_info": {
   "codemirror_mode": {
    "name": "ipython",
    "version": 3
   },
   "file_extension": ".py",
   "mimetype": "text/x-python",
   "name": "python",
   "nbconvert_exporter": "python",
   "pygments_lexer": "ipython3",
   "version": "3.7.3"
  }
 },
 "nbformat": 4,
 "nbformat_minor": 2
}
