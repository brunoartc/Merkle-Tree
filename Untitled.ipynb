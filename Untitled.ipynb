{
 "cells": [
  {
   "cell_type": "markdown",
   "metadata": {},
   "source": [
    "# Merkle Tree"
   ]
  },
  {
   "cell_type": "markdown",
   "metadata": {},
   "source": [
    "def makeCompleteMerkleTreeString(block_size, data):\n",
    "    if (len(data)%2 != 0):\n",
    "        print(\"NON EVEN NUMBER OF CHARACTERS\")\n",
    "    else:\n",
    "        return makeMerkleTreeString(block_size, data)\n",
    "    \n",
    "def simplifyMerkleTree(data):\n",
    "    \n",
    "def makeMerkleTreeString(block_size, data): #clever implementation\n",
    "    slice_index = int(len(data)/2)\n",
    "    \n",
    "    if (len(data)<=block_size):\n",
    "        return [data[:slice_index], data[slice_index:]]\n",
    "    else:\n",
    "        return [makeMerkleTreeString(block_size, data[:slice_index]) , makeMerkleTreeString(block_size, data[slice_index:]) ]\n",
    "    \n",
    "def undoMerkle(data):\n",
    "    if (type(data) == type([])):\n",
    "        return undoMerkle(data[0]) +  undoMerkle(data[1])\n",
    "    else:\n",
    "        return data\n",
    "    \n",
    "def calcMerkleTree(data): #WRONG ALGORITHM !!!!\n",
    "    try:\n",
    "        if (type(data[1]) == type([])):\n",
    "            return calcMerkleTree(data[0]) +  calcMerkleTree(data[1])\n",
    "        else:\n",
    "            return hash(data[0] + data[1])\n",
    "    except:\n",
    "        print(data[1][1])\n",
    "        \n",
    "def calcLowerMerkleTreeHash(data):\n",
    "    if (type(data[0]) == type([])):\n",
    "        return [calcLowerMerkleTreeHash(data[0]),  calcLowerMerkleTreeHash(data[1])]\n",
    "    else:\n",
    "        #print(str(data) + \"\\n\\n\\n\\n\\n\")\n",
    "        return hash(data[0] + data[1])\n",
    "    if (type(data[1]) == type([])):\n",
    "        return [calcLowerMerkleTreeHash(data[0]),  calcLowerMerkleTreeHash(data[1])]\n",
    "    else:\n",
    "        #print(str(data) + \"\\n\\n\\n\\n\\n\")\n",
    "        return hash(data[0] + data[1])\n",
    "    \n",
    "\n",
    "def fullHashMerkleTree(mytree):\n",
    "    resp = []\n",
    "    teste = calcLowerMerkleTreeHash(mytree)\n",
    "    print(teste)\n",
    "    while type(teste) == type([]):\n",
    "        print(\"\\n\\n\\n\\n\\n\\n\\n\")\n",
    "        print(teste)\n",
    "        resp.append(teste)\n",
    "        \n",
    "\n",
    "        teste = calcLowerMerkleTreeHash(teste)\n",
    "    print(\"\\n\\n\\n\\n\\n\\n\\n\")\n",
    "    print(teste)\n",
    "    resp.append(teste)\n",
    "    return teste\n",
    "\n",
    "\n",
    "\n",
    "        \n"
   ]
  },
  {
   "cell_type": "markdown",
   "metadata": {},
   "source": [
    "mytree = makeCompleteMerkleTreeString(2, \"bananinha quando nascea \") # <- need to be even\n",
    "print(\"===============\")\n",
    "print(calcMerkleTree(mytree))\n",
    "print(mytree)\n",
    "print(\"===============\")\n",
    "fullHashMerkleTree(mytree)\n"
   ]
  },
  {
   "cell_type": "code",
   "execution_count": 1,
   "metadata": {},
   "outputs": [],
   "source": [
    "def makeMerkleTreeBlocks(data, block_size):\n",
    "    if (len(data)%block_size) != 0:\n",
    "        print(\"CAN'T DIVIDE DATA BY BLOCK_SIZE\")\n",
    "    else:\n",
    "        data_blocks = []\n",
    "        for i in range(int(len(data)/block_size)):\n",
    "            data_blocks.append(data[i*block_size: (i*block_size) + block_size])\n",
    "\n",
    "        return data_blocks\n",
    "    \n",
    "def addPaddingToBlocks(data):\n",
    "    if (type(data[0])==type(0)):\n",
    "        data.append(0)\n",
    "    else:\n",
    "        data.append('')\n",
    "    return data\n",
    "    \n",
    "def calculateBottonMerkleTreeHashs(data):\n",
    "    if len(data)%2 != 0:\n",
    "        data = addPaddingToBlocks(data)\n",
    "    resp = []\n",
    "    \n",
    "    for i in range(int(len(data)/2)):\n",
    "        resp.append(hash(data[i*2] + data[(i*2)+1]))\n",
    "        \n",
    "    if len(resp)%2 != 0:\n",
    "        resp = addPaddingToBlocks(resp)\n",
    "    return resp\n",
    "\n",
    "\n",
    "\n",
    "\n",
    "        \n",
    "    \n",
    "def calculateTreeHash(data, history = []):\n",
    "    data = calculateBottonMerkleTreeHashs(data)\n",
    "    \n",
    "    history.append(data) #TODO better history\n",
    "    if (len(data) > 2):\n",
    "        \n",
    "        return calculateTreeHash(data, history)\n",
    "    else:\n",
    "        return hash(data[0] + data[1]), history\n",
    "    \n",
    "def preetifyHistory(history):\n",
    "    if len(history)>2:\n",
    "        return [preetifyHistory(history[int(len(history)/2):]), preetifyHistory(history[:int(len(history)/2)])]\n",
    "    else:\n",
    "        return history\n",
    "        \n",
    "    \n",
    "    \n",
    "def preetifyHistoryTeste(history):\n",
    "    if len(history)>2:\n",
    "        \n",
    "        return [history[int(len(history)/2):], history[:int(len(history)/2)]]\n",
    "    else:\n",
    "        return history\n",
    "    \n",
    "    \n",
    "def findBlock(tree, index, i=0):\n",
    "    #if type(tree[0])==type([]):\n",
    "    if (len(index) > i):\n",
    "        return findBlock(tree[index[i]], index, i+1)\n",
    "    else:\n",
    "        return tree\n",
    "\n",
    "        "
   ]
  },
  {
   "cell_type": "code",
   "execution_count": 2,
   "metadata": {},
   "outputs": [],
   "source": [
    "mytree_wrong = makeMerkleTreeBlocks(\"Hello World? h3ll0\", 2)\n",
    "mytree = makeMerkleTreeBlocks(\"Hello World! h3ll0\", 2)\n"
   ]
  },
  {
   "cell_type": "code",
   "execution_count": 3,
   "metadata": {},
   "outputs": [
    {
     "name": "stdout",
     "output_type": "stream",
     "text": [
      "['He', 'll', 'o ', 'Wo', 'rl', 'd!', ' h', '3l', 'l0']\n"
     ]
    }
   ],
   "source": [
    "print(mytree)"
   ]
  },
  {
   "cell_type": "code",
   "execution_count": 4,
   "metadata": {},
   "outputs": [
    {
     "name": "stdout",
     "output_type": "stream",
     "text": [
      "[1915447720198296708, -6414290910433725184, 911668078986275449, 6535285022921801860, -6950993613051193, 0]\n"
     ]
    }
   ],
   "source": [
    "final_hash, history = calculateTreeHash(mytree, [])\n",
    "teste_final_hash, teste_history = calculateTreeHash(makeMerkleTreeBlocks(\"Hello World! h3ll0\", 2), [])\n",
    "\n",
    "\n",
    "print(history[0])"
   ]
  },
  {
   "cell_type": "code",
   "execution_count": 5,
   "metadata": {},
   "outputs": [
    {
     "name": "stdout",
     "output_type": "stream",
     "text": [
      "[-2193000181021734525, 529424074266995456, -6950993613051193, 0]\n"
     ]
    }
   ],
   "source": [
    "print(history[1])"
   ]
  },
  {
   "cell_type": "code",
   "execution_count": 6,
   "metadata": {},
   "outputs": [
    {
     "name": "stdout",
     "output_type": "stream",
     "text": [
      "[-1663576106754739069, -6950993613051193]\n"
     ]
    }
   ],
   "source": [
    "print(history[2])"
   ]
  },
  {
   "cell_type": "code",
   "execution_count": 7,
   "metadata": {},
   "outputs": [
    {
     "name": "stdout",
     "output_type": "stream",
     "text": [
      "-1670527100367790262\n"
     ]
    }
   ],
   "source": [
    "print(final_hash)"
   ]
  },
  {
   "cell_type": "code",
   "execution_count": 8,
   "metadata": {},
   "outputs": [
    {
     "name": "stdout",
     "output_type": "stream",
     "text": [
      "-1670527100367790262\n",
      "-1107680623959500746\n"
     ]
    }
   ],
   "source": [
    "final_hash_wrong, history_wrong = calculateTreeHash(mytree_wrong, [])\n",
    "print(final_hash)\n",
    "print(final_hash_wrong)"
   ]
  },
  {
   "cell_type": "code",
   "execution_count": 9,
   "metadata": {},
   "outputs": [
    {
     "name": "stdout",
     "output_type": "stream",
     "text": [
      "True\n",
      "False\n"
     ]
    }
   ],
   "source": [
    "print(final_hash == teste_final_hash)\n",
    "print(final_hash == final_hash_wrong) #False block sectio wrong     podemos ver que o arquivo foi modificado ou danificado"
   ]
  },
  {
   "cell_type": "code",
   "execution_count": 10,
   "metadata": {},
   "outputs": [
    {
     "name": "stdout",
     "output_type": "stream",
     "text": [
      "False\n",
      "True\n"
     ]
    }
   ],
   "source": [
    "PROFUNDIDADE = 2\n",
    "wrong_block = []\n",
    "\n",
    "print(history[PROFUNDIDADE][0] == history_wrong[PROFUNDIDADE][0]) # podemos ver que o erro esta na segunda metade da string primeira do vetor\n",
    "print(history[PROFUNDIDADE][1] == history_wrong[PROFUNDIDADE][1]) #True block section ok\n",
    "\n",
    "wrong_block.append(0)\n",
    "# 0 "
   ]
  },
  {
   "cell_type": "code",
   "execution_count": 11,
   "metadata": {},
   "outputs": [
    {
     "name": "stdout",
     "output_type": "stream",
     "text": [
      "[-2193000181021734525, 529424074266995456, -6950993613051193, 0]\n",
      "\n",
      "\n",
      "\n",
      "\n",
      "[-2193000181021734525, 1092270550675284972, -6950993613051193, 0]\n",
      "True\n",
      "False\n"
     ]
    }
   ],
   "source": [
    "PROFUNDIDADE -= 1\n",
    "SESSAO_ANTERIOR = not 0#\n",
    "#t(SESSAO_ANTERIOR)\n",
    "print(history[1])\n",
    "print(\"\\n\\n\\n\")\n",
    "print(history_wrong[1])\n",
    "\n",
    "print(preetifyHistory(history_wrong[SESSAO_ANTERIOR])[0] == preetifyHistory(history[SESSAO_ANTERIOR])[0]) # esta parte esta okay\n",
    "\n",
    "print(preetifyHistory(history_wrong[SESSAO_ANTERIOR])[1] == preetifyHistory(history[SESSAO_ANTERIOR])[1]) # esta parte esta errada a primeira parte \n",
    "#como vemos o numero sempre se inverte \n",
    "\n",
    "wrong_block.append(1)\n",
    "# 1"
   ]
  },
  {
   "cell_type": "code",
   "execution_count": 12,
   "metadata": {},
   "outputs": [
    {
     "name": "stdout",
     "output_type": "stream",
     "text": [
      "[-6414290910433725184, 3780357564608258916]\n",
      "[-6414290910433725184, 911668078986275449]\n"
     ]
    }
   ],
   "source": [
    "# no ultimo teste vimos que o errado estava no 1 que se traduz para 0\n",
    "PROFUNDIDADE -= 1\n",
    "SESSAO_ANTERIOR = not 0\n",
    "\n",
    "\n",
    "print (preetifyHistory(history_wrong[PROFUNDIDADE])[SESSAO_ANTERIOR][0]) # a sessão errada no sistema\n",
    "print (preetifyHistory(history[PROFUNDIDADE])[SESSAO_ANTERIOR][0]) # deveria devolver esse hash\n",
    "\n"
   ]
  },
  {
   "cell_type": "code",
   "execution_count": 13,
   "metadata": {},
   "outputs": [
    {
     "name": "stdout",
     "output_type": "stream",
     "text": [
      "[-1459487458304190224, 8038099163728284816, 3922514305727949288, -4523252780680118554, -8576400235687334880, -7969093768226275768, 2803695560053747558, 6374870021222016028, 4131656201040839315, -4761869333313594954, 5467134028648902699, 1648057716235265029, -7736190275592984832, 1739260268772677924, 2539931767597663707, 1593893245686573106, 6832420895635401982, -2836657120992425989, -2385899747847628738, 6374870021222016028, -6653708320975003926, 1047782188103190168, -9054250344849435313, -1633080093349534546, -6568030236757369076, 8972065664044215666, -6234385500022170114, 85723219297940642]\n"
     ]
    }
   ],
   "source": [
    "mytree_test= makeMerkleTreeBlocks(\"banawdm, akwodmaowndioawndioawndinawiodnaiowndiawndioawnioqwndinawodnawiodnoawndopandioánwiodaninha quando dorme\", 2)\n",
    "\n",
    "\n",
    "final_hash_wrong, history_wrong = calculateTreeHash(mytree_test, [])\n",
    "\n",
    "#for i in history_wrong:\n",
    "    #print(\"\\n\\n\\n\\n\\n\\n\", i)\n",
    "print(history_wrong[0])"
   ]
  },
  {
   "cell_type": "code",
   "execution_count": 14,
   "metadata": {},
   "outputs": [
    {
     "name": "stdout",
     "output_type": "stream",
     "text": [
      "['d?', ' h']\n"
     ]
    }
   ],
   "source": [
    "#print(final_hash)\n",
    "phistory = preetifyHistory(history_wrong[0]) \n",
    "#print(phistory[0][1]) # como podemos ver achamos a sessão correta pela busca binaria\n",
    "\n",
    "merklePreety = preetifyHistory(mytree_wrong) \n",
    "\n",
    "print(findBlock(merklePreety, wrong_block))\n"
   ]
  },
  {
   "cell_type": "code",
   "execution_count": null,
   "metadata": {},
   "outputs": [],
   "source": []
  }
 ],
 "metadata": {
  "kernelspec": {
   "display_name": "Python 3",
   "language": "python",
   "name": "python3"
  },
  "language_info": {
   "codemirror_mode": {
    "name": "ipython",
    "version": 3
   },
   "file_extension": ".py",
   "mimetype": "text/x-python",
   "name": "python",
   "nbconvert_exporter": "python",
   "pygments_lexer": "ipython3",
   "version": "3.7.3"
  }
 },
 "nbformat": 4,
 "nbformat_minor": 2
}
